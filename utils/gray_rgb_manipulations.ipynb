{
 "cells": [
  {
   "cell_type": "code",
   "execution_count": 25,
   "id": "ffbf4779",
   "metadata": {},
   "outputs": [],
   "source": [
    "path = '/media/ashwin/data2/ViTPicker_data/10_3_json_data_no_coord_missing/val/18jam15a_0025_ali_DW.jpg'"
   ]
  },
  {
   "cell_type": "code",
   "execution_count": null,
   "id": "c6dd3ce0",
   "metadata": {},
   "outputs": [],
   "source": []
  },
  {
   "cell_type": "code",
   "execution_count": 26,
   "id": "a74a253d",
   "metadata": {},
   "outputs": [
    {
     "name": "stdout",
     "output_type": "stream",
     "text": [
      "gray\n"
     ]
    },
    {
     "name": "stderr",
     "output_type": "stream",
     "text": [
      "/home/ashwin/anaconda3/envs/ViTPicker/lib/python3.7/site-packages/ipykernel_launcher.py:2: DeprecationWarning:     `imread` is deprecated!\n",
      "    `imread` is deprecated in SciPy 1.0.0, and will be removed in 1.2.0.\n",
      "    Use ``imageio.imread`` instead.\n",
      "  \n"
     ]
    }
   ],
   "source": [
    "from scipy.misc import imread, imsave, imresize\n",
    "image = imread(path)\n",
    "if(len(image.shape)<3):\n",
    "      print (\"gray\")\n",
    "elif len(image.shape)==3:\n",
    "      print (\"Color(RGB)\")\n",
    "else:\n",
    "      print (\"others\")"
   ]
  },
  {
   "cell_type": "code",
   "execution_count": null,
   "id": "c0a41ef2",
   "metadata": {},
   "outputs": [],
   "source": []
  },
  {
   "cell_type": "code",
   "execution_count": 12,
   "id": "7679dfdb",
   "metadata": {},
   "outputs": [],
   "source": [
    "import cv2"
   ]
  },
  {
   "cell_type": "code",
   "execution_count": 38,
   "id": "54f9aee2",
   "metadata": {},
   "outputs": [],
   "source": [
    "img_sample = '/media/ashwin/data2/ViTPicker_data/10_3_json_data_coord_missing/val/18jam15a_0026_ali_DW.jpg'"
   ]
  },
  {
   "cell_type": "code",
   "execution_count": 39,
   "id": "68c02c65",
   "metadata": {},
   "outputs": [],
   "source": [
    "from PIL import Image\n",
    "\n",
    "# Load the grayscale image\n",
    "gray_image = Image.open(img_sample)\n",
    "\n",
    "# Create a new RGB image with the same dimensions as the grayscale image\n",
    "rgb_image = Image.new(\"RGB\", gray_image.size)\n",
    "\n",
    "# Copy the grayscale image to all three channels of the new RGB image\n",
    "rgb_image.putdata([(x,x,x) for x in gray_image.getdata()])\n",
    "\n"
   ]
  },
  {
   "cell_type": "code",
   "execution_count": 32,
   "id": "276e04a1",
   "metadata": {},
   "outputs": [],
   "source": [
    "# Save the RGB image to a file\n",
    "output_path = img_sample[:-4] + 'rgb' '.jpg'\n",
    "orig_image.save(output_path)"
   ]
  },
  {
   "cell_type": "code",
   "execution_count": null,
   "id": "075b6221",
   "metadata": {},
   "outputs": [],
   "source": []
  }
 ],
 "metadata": {
  "kernelspec": {
   "display_name": "Python [conda env:ViTPicker] *",
   "language": "python",
   "name": "conda-env-ViTPicker-py"
  },
  "language_info": {
   "codemirror_mode": {
    "name": "ipython",
    "version": 3
   },
   "file_extension": ".py",
   "mimetype": "text/x-python",
   "name": "python",
   "nbconvert_exporter": "python",
   "pygments_lexer": "ipython3",
   "version": "3.7.16"
  }
 },
 "nbformat": 4,
 "nbformat_minor": 5
}
