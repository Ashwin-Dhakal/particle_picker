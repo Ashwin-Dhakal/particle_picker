{
 "cells": [
  {
   "cell_type": "code",
   "execution_count": 9,
   "id": "44d7232b",
   "metadata": {},
   "outputs": [],
   "source": [
    "import glob\n",
    "import shutil\n",
    "\n",
    "SOURCE_PROJ_DIR = '/media/ashwin/data2/ViTPicker_data/10406/'\n",
    "micrographs = sorted(list(glob.glob(SOURCE_PROJ_DIR + 'micrographs/*.jpg')))\n",
    "\n",
    "DESTINATION_TRAIN = '/media/ashwin/data2/ViTPicker_data/10406/train/'\n",
    "DESTINATION_TEST = '/media/ashwin/data2/ViTPicker_data/10406/test/'\n"
   ]
  },
  {
   "cell_type": "code",
   "execution_count": 10,
   "id": "463ca754",
   "metadata": {},
   "outputs": [],
   "source": [
    "#First 270 micrographs as training dataset\n",
    "for i in range(0, 270):\n",
    "    source = micrographs[i]\n",
    "    file_name = source.split(\"/\")[-1]\n",
    "    destination = DESTINATION_TRAIN + file_name\n",
    "    try:\n",
    "        shutil.move(source, destination)\n",
    "    except:\n",
    "        print(\"Error Moving Files ....\")\n",
    "\n",
    "\n",
    "       "
   ]
  },
  {
   "cell_type": "code",
   "execution_count": 4,
   "id": "fa793e7a",
   "metadata": {},
   "outputs": [
    {
     "name": "stdout",
     "output_type": "stream",
     "text": [
      "Error Moving Files ....\n",
      "Error Moving Files ....\n",
      "Error Moving Files ....\n",
      "Error Moving Files ....\n",
      "Error Moving Files ....\n",
      "Error Moving Files ....\n",
      "Error Moving Files ....\n",
      "Error Moving Files ....\n",
      "Error Moving Files ....\n",
      "Error Moving Files ....\n",
      "Error Moving Files ....\n",
      "Error Moving Files ....\n",
      "Error Moving Files ....\n",
      "Error Moving Files ....\n",
      "Error Moving Files ....\n",
      "Error Moving Files ....\n",
      "Error Moving Files ....\n",
      "Error Moving Files ....\n",
      "Error Moving Files ....\n",
      "Error Moving Files ....\n",
      "Error Moving Files ....\n",
      "Error Moving Files ....\n",
      "Error Moving Files ....\n",
      "Error Moving Files ....\n",
      "Error Moving Files ....\n",
      "Error Moving Files ....\n",
      "Error Moving Files ....\n",
      "Error Moving Files ....\n",
      "Error Moving Files ....\n",
      "Error Moving Files ....\n"
     ]
    }
   ],
   "source": [
    "OR Just move remaining files to test folderr\n",
    "\n",
    "# Last 30 micrographs as testing dataset     \n",
    "for i in range(270, 300):\n",
    "    source = micrographs[i]\n",
    "    file_name = source.split(\"/\")[-1]\n",
    "    destination = DESTINATION_TEST + 'images/' + file_name\n",
    "    try:\n",
    "        shutil.move(source, destination)\n",
    "    except:\n",
    "        print(\"Error Moving Files ....\") "
   ]
  },
  {
   "cell_type": "code",
   "execution_count": null,
   "id": "9d7326c0",
   "metadata": {},
   "outputs": [],
   "source": []
  },
  {
   "cell_type": "code",
   "execution_count": null,
   "id": "45ab5575",
   "metadata": {},
   "outputs": [],
   "source": []
  },
  {
   "cell_type": "code",
   "execution_count": null,
   "id": "3e7ee86f",
   "metadata": {},
   "outputs": [],
   "source": []
  },
  {
   "cell_type": "code",
   "execution_count": null,
   "id": "7685c4ff",
   "metadata": {},
   "outputs": [],
   "source": []
  },
  {
   "cell_type": "code",
   "execution_count": null,
   "id": "ad63d3f1",
   "metadata": {},
   "outputs": [],
   "source": []
  },
  {
   "cell_type": "code",
   "execution_count": null,
   "id": "2671fc3b",
   "metadata": {},
   "outputs": [],
   "source": []
  }
 ],
 "metadata": {
  "kernelspec": {
   "display_name": "ViTPicker",
   "language": "python",
   "name": "python3"
  },
  "language_info": {
   "codemirror_mode": {
    "name": "ipython",
    "version": 3
   },
   "file_extension": ".py",
   "mimetype": "text/x-python",
   "name": "python",
   "nbconvert_exporter": "python",
   "pygments_lexer": "ipython3",
   "version": "3.7.16"
  }
 },
 "nbformat": 4,
 "nbformat_minor": 5
}
