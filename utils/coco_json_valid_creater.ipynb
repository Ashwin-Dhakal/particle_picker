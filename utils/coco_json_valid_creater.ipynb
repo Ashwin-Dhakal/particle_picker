{
 "cells": [
  {
   "cell_type": "code",
   "execution_count": 11,
   "id": "9fa863aa",
   "metadata": {},
   "outputs": [],
   "source": [
    "import numpy as np\n",
    "import pandas as pd\n",
    "import mrcfile\n",
    "import cv2\n",
    "import glob\n",
    "from matplotlib import pyplot as plt, patches\n",
    "\n",
    "import math\n",
    "%matplotlib inline\n",
    "from moviepy.Clip import *\n",
    "import os\n",
    "import csv\n",
    "import json\n",
    "import argparse\n",
    "import numpy as np"
   ]
  },
  {
   "cell_type": "code",
   "execution_count": 12,
   "id": "acd8eb7d",
   "metadata": {},
   "outputs": [],
   "source": [
    "# #for local\n",
    "# phase = 'val'\n",
    "# output_dir = '/media/ashwin/data2/ViTPicker_data/10_3_json_data_coord_missing/annotations/'\n",
    "# mrc_file_path = '/media/ashwin/data2/ViTPicker_data/10_3_json_data_coord_missing/val/'\n",
    "# coord_file_path  = '/media/ashwin/data2/ViTPicker_data/10_3_json_data_coord_missing/particle_coordinates/'"
   ]
  },
  {
   "cell_type": "code",
   "execution_count": 13,
   "id": "ad5a1123",
   "metadata": {},
   "outputs": [],
   "source": [
    "#for server\n",
    "\n",
    "phase = 'val'\n",
<<<<<<< Updated upstream
    "output_dir = '/bml/ashwin/ViTPicker/data_collection/10_3_json_data_no_coord_missing/annotations/'\n",
    "mrc_file_path = '/bml/ashwin/ViTPicker/data_collection/10_3_json_data_no_coord_missing/val/'\n",
    "coord_file_path  = '/bml/ashwin/ViTPicker/data_collection/10_3_json_data_no_coord_missing/particle_coordinates/'"
=======
    "output_dir = '/media/ashwin/data2/ViTPicker_data/10_3_json_data_no_coord_missing/annotations/'\n",
    "mrc_file_path = '/media/ashwin/data2/ViTPicker_data/10_3_json_data_no_coord_missing/val/'\n",
    "coord_file_path  = '/media/ashwin/data2/ViTPicker_data/10_3_json_data_no_coord_missing/particle_coordinates/'"
>>>>>>> Stashed changes
   ]
  },
  {
   "cell_type": "code",
   "execution_count": 14,
   "id": "0d11d123",
   "metadata": {},
   "outputs": [],
   "source": [
    "def create_json_dataset(phase, mrc_file_path, coord_file_path, output_dir):\n",
    "    dataset = {'info': [], 'categories': [] , 'images': [],  'annotations': []}\n",
    "    classes = ['particle']\n",
    "    csv_file_not_count = 0\n",
    "    anno_id = 1\n",
    "\n",
    "    dataset['info'].append({\n",
    "        'description': 'coco dataset for Cryo EM micrographs', \n",
    "        'contributor': 'Ashwin', \n",
    "        'year': '2023'})\n",
    "\n",
    "    for i, cls in enumerate(classes, 1):\n",
    "        dataset['categories'].append({'id': i, 'name': cls, 'supercategory': ''})\n",
    "\n",
    "    file_names = [f for f in sorted(os.listdir(mrc_file_path))]\n",
    "\n",
    "    for image_id, file_name in enumerate(file_names):\n",
    "        # write image id, name, width and height\n",
    "        image_path = mrc_file_path + file_name\n",
    "        read_image = cv2.imread(image_path)\n",
    "        IMG_HEIGHT, IMG_WIDTH, channel = read_image.shape\n",
    "\n",
    "        dataset['images'].append({\n",
    "                          'id': image_id,\n",
    "                          'file_name': file_name[:-4] + '.jpg',\n",
    "                          'width': IMG_WIDTH,\n",
    "                          'height': IMG_HEIGHT})\n",
    "\n",
    "        #read particle coordinates\n",
    "        particle_coord_path = os.path.join(coord_file_path, '') + file_name[:-4] + '.csv'\n",
    "        if not os.path.exists(particle_coord_path):\n",
    "            print(f\"coordinates not avaibale for {file_name}.jpg ----> Skipping Image ID : {image_id}\")\n",
    "            dataset['annotations'].append({\n",
    "                'id': anno_id,  #annotation id of its own\n",
    "                'category_id': 1,  # particle class\n",
    "                'iscrowd': 0,\n",
    "                'area': 0,\n",
    "                'image_id': image_id,\n",
    "                'bbox': [0,0,0,0],\n",
    "                'segmentation': []\n",
    "            })\n",
    "            anno_id += 1\n",
    "            csv_file_not_count += 1\n",
    "        \n",
    "        else:\n",
    "            boxes = pd.read_csv(particle_coord_path, usecols=[0,1,2])\n",
    "            for i, box in boxes.iterrows():\n",
    "                box_x_coord = int(box['X-Coordinate'] - box['Diameter'] / 2 )#top left x coord\n",
    "                box_y_coord = int(box['Y-Coordinate'] - box['Diameter'] / 2 ) #top left y coord\n",
    "                BOX_WIDTH = int(box['Diameter'] + 5)  #making a little bigger bounding box\n",
    "\n",
    "                dataset['annotations'].append({\n",
    "                    'id': anno_id,  #annotation id of its own\n",
    "                    'category_id': 1,  # particle class\n",
    "                    'iscrowd': 1,\n",
    "                    'area': BOX_WIDTH * BOX_WIDTH,\n",
    "                    'image_id': image_id,\n",
    "                    'bbox': [box_x_coord, box_y_coord, BOX_WIDTH, BOX_WIDTH],\n",
    "                    'segmentation': []\n",
    "                })\n",
    "                anno_id += 1\n",
    "\n",
    "\n",
    "    print(\"------------------------  STATS   ---------------------\")\n",
    "    print(f\"Total Micrographs : {len(file_names)}\")\n",
    "    print(f\"CSV file not available for : {csv_file_not_count} micrographs\")\n",
    "    print(\"------------------------     ---------------------\")\n",
    "\n",
    "    # save json annotation results\n",
    "    json_name = os.path.join(output_dir, 'instances_{}.json'.format(phase))\n",
    "    print(\"json_name:\", json_name)\n",
    "    with open(json_name, 'w') as f:\n",
    "        json.dump(dataset, f)"
   ]
  },
  {
   "cell_type": "code",
   "execution_count": null,
   "id": "1c3b4036",
   "metadata": {},
   "outputs": [],
   "source": []
  },
  {
   "cell_type": "code",
   "execution_count": 15,
   "id": "b6856df1",
   "metadata": {},
   "outputs": [
    {
     "name": "stdout",
     "output_type": "stream",
     "text": [
<<<<<<< Updated upstream
      "------------------------  STATS   ---------------------\n",
      "Total Micrographs : 3\n",
      "CSV file not available for : 0 micrographs\n",
      "------------------------     ---------------------\n",
      "json_name: /bml/ashwin/ViTPicker/data_collection/10_3_json_data_no_coord_missing/annotations/instances_val.json\n"
=======
      "<class 'int'>\n",
      "<class 'int'>\n",
      "<class 'int'>\n",
      "<class 'int'>\n",
      "<class 'int'>\n",
      "<class 'int'>\n"
>>>>>>> Stashed changes
     ]
    }
   ],
   "source": [
    "create_json_dataset(phase, mrc_file_path, coord_file_path, output_dir)"
   ]
  },
  {
   "cell_type": "code",
   "execution_count": null,
   "id": "233b8e9e",
   "metadata": {},
   "outputs": [],
   "source": []
  },
  {
   "cell_type": "code",
   "execution_count": null,
   "id": "606a3b5f",
   "metadata": {},
   "outputs": [],
   "source": []
  },
  {
   "cell_type": "code",
   "execution_count": null,
   "id": "ccea6645",
   "metadata": {},
   "outputs": [],
   "source": []
  },
  {
   "cell_type": "code",
   "execution_count": null,
   "id": "402f247d",
   "metadata": {},
   "outputs": [],
   "source": []
  }
 ],
 "metadata": {
  "kernelspec": {
   "display_name": "ViTPicker",
   "language": "python",
   "name": "python3"
  },
  "language_info": {
   "codemirror_mode": {
    "name": "ipython",
    "version": 3
   },
   "file_extension": ".py",
   "mimetype": "text/x-python",
   "name": "python",
   "nbconvert_exporter": "python",
   "pygments_lexer": "ipython3",
   "version": "3.7.16"
  }
 },
 "nbformat": 4,
 "nbformat_minor": 5
}
