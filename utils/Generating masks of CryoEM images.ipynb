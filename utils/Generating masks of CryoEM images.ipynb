{
 "cells": [
  {
   "cell_type": "code",
   "execution_count": 2,
   "id": "35dd818b",
   "metadata": {},
   "outputs": [],
   "source": [
    "import numpy as np\n",
    "import pandas as pd\n",
    "import mrcfile\n",
    "import cv2\n",
    "import glob\n",
    "from matplotlib import pyplot as plt\n",
    "import math\n",
    "%matplotlib inline"
   ]
  },
  {
   "cell_type": "code",
   "execution_count": null,
   "id": "2ddc7fbd",
   "metadata": {},
   "outputs": [],
   "source": [
    "PROJ_DIR = '/home/rajan/Documents/CryoModel/Datasets/10345/'\n",
    "COORDINATES_DIR = PROJ_DIR + \"ground_truth/particle_coordinates/\"\n",
    "micrographs = glob.glob(PROJ_DIR + 'micrographs/*.mrc')\n",
    "\n",
    "for file in micrographs:\n",
    "    f = file.split(\"/\")[-1].split(\".\")[0]\n",
    "    coordinate_filename = COORDINATES_DIR + f + '.csv'\n",
    "    image = mrcfile.read(file)\n",
    "    image /= image.max()\n",
    "\n",
    "    mask = np.zeros_like(image)\n",
    "    try:\n",
    "        coordinates = pd.read_csv(coordinate_filename, usecols=[0,1,2])\n",
    "        for i, c in coordinates.iterrows():\n",
    "            x = c['X-Coordinate']\n",
    "            y = c['Y-Coordinate']\n",
    "            r = int(c['Diameter']/2)\n",
    "            coords = cv2.circle(mask, (x, y), r, (255, 255, 255), -1)\n",
    "    except:\n",
    "        coords = mask\n",
    "    cv2.imwrite(PROJ_DIR + 'masks/' + f + '_mask.jpg', coords)"
   ]
  },
  {
   "cell_type": "code",
   "execution_count": null,
   "id": "16873a07",
   "metadata": {},
   "outputs": [],
   "source": [
    "def transform(image):\n",
    "    i_min = image.min()\n",
    "    i_max = image.max()\n",
    "\n",
    "    image = ((image - i_min)/(i_max - i_min)) * 255\n",
    "    return image.astype(np.uint8)"
   ]
  },
  {
   "cell_type": "code",
   "execution_count": null,
   "id": "3382b49f",
   "metadata": {},
   "outputs": [],
   "source": [
    "def plotting(images, captions, cols=2):\n",
    "    plt.figure(figsize=(20,20))\n",
    "    for i, image in enumerate(images):\n",
    "        plt.subplot(1, cols, i + 1)\n",
    "        plt.grid(False)        \n",
    "        \n",
    "        fig = plt.imshow(image, cmap='gray')\n",
    "        plt.title(captions[i], fontdict= {'fontsize':12}, color = 'black')\n",
    "        fig.axes.get_xaxis().set_visible(False)\n",
    "        fig.axes.get_yaxis().set_visible(False)\n",
    "    plt.show()"
   ]
  }
 ],
 "metadata": {
  "kernelspec": {
   "display_name": "Python 3 (ipykernel)",
   "language": "python",
   "name": "python3"
  },
  "language_info": {
   "codemirror_mode": {
    "name": "ipython",
    "version": 3
   },
   "file_extension": ".py",
   "mimetype": "text/x-python",
   "name": "python",
   "nbconvert_exporter": "python",
   "pygments_lexer": "ipython3",
   "version": "3.7.16"
  }
 },
 "nbformat": 4,
 "nbformat_minor": 5
}
