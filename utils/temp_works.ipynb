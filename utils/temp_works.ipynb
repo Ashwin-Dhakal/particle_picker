{
 "cells": [
  {
   "cell_type": "code",
   "execution_count": null,
   "id": "b7e873f8",
   "metadata": {},
   "outputs": [],
   "source": [
    "#temp "
   ]
  },
  {
   "cell_type": "code",
   "execution_count": 1,
   "id": "474259ef",
   "metadata": {},
   "outputs": [],
   "source": [
    "bbox= [0,0,0,0]"
   ]
  },
  {
   "cell_type": "code",
   "execution_count": 2,
   "id": "9f04e74f",
   "metadata": {},
   "outputs": [
    {
     "name": "stdout",
     "output_type": "stream",
     "text": [
      "[0, 0, 0, 0]\n"
     ]
    }
   ],
   "source": [
    "print(bbox)"
   ]
  },
  {
   "cell_type": "code",
   "execution_count": 7,
   "id": "6ab208d5",
   "metadata": {},
   "outputs": [
    {
     "data": {
      "text/plain": [
       "int"
      ]
     },
     "execution_count": 7,
     "metadata": {},
     "output_type": "execute_result"
    }
   ],
   "source": [
    "type(bbox[3])"
   ]
  },
  {
   "cell_type": "code",
   "execution_count": null,
   "id": "d7c947be",
   "metadata": {},
   "outputs": [],
   "source": []
  }
 ],
 "metadata": {
  "kernelspec": {
   "display_name": "Python [conda env:ViTPicker] *",
   "language": "python",
   "name": "conda-env-ViTPicker-py"
  },
  "language_info": {
   "codemirror_mode": {
    "name": "ipython",
    "version": 3
   },
   "file_extension": ".py",
   "mimetype": "text/x-python",
   "name": "python",
   "nbconvert_exporter": "python",
   "pygments_lexer": "ipython3",
   "version": "3.7.16"
  }
 },
 "nbformat": 4,
 "nbformat_minor": 5
}
